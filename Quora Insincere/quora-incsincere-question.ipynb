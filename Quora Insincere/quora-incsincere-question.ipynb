{
 "cells": [
  {
   "cell_type": "code",
   "execution_count": 1,
   "metadata": {
    "_cell_guid": "b1076dfc-b9ad-4769-8c92-a6c4dae69d19",
    "_uuid": "8f2839f25d086af736a60e9eeb907d3b93b6e0e5",
    "execution": {
     "iopub.execute_input": "2024-08-21T07:20:08.619864Z",
     "iopub.status.busy": "2024-08-21T07:20:08.618977Z",
     "iopub.status.idle": "2024-08-21T07:20:09.004733Z",
     "shell.execute_reply": "2024-08-21T07:20:09.003821Z",
     "shell.execute_reply.started": "2024-08-21T07:20:08.619827Z"
    }
   },
   "outputs": [
    {
     "name": "stdout",
     "output_type": "stream",
     "text": [
      "/kaggle/input/quora-insincere-questions-dataset/train.csv\n"
     ]
    }
   ],
   "source": [
    "# This Python 3 environment comes with many helpful analytics libraries installed\n",
    "# It is defined by the kaggle/python Docker image: https://github.com/kaggle/docker-python\n",
    "# For example, here's several helpful packages to load\n",
    "\n",
    "import numpy as np # linear algebra\n",
    "import pandas as pd # data processing, CSV file I/O (e.g. pd.read_csv)\n",
    "\n",
    "# Input data files are available in the read-only \"../input/\" directory\n",
    "# For example, running this (by clicking run or pressing Shift+Enter) will list all files under the input directory\n",
    "\n",
    "import os\n",
    "for dirname, _, filenames in os.walk('/kaggle/input'):\n",
    "    for filename in filenames:\n",
    "        print(os.path.join(dirname, filename))\n",
    "\n",
    "# You can write up to 20GB to the current directory (/kaggle/working/) that gets preserved as output when you create a version using \"Save & Run All\" \n",
    "# You can also write temporary files to /kaggle/temp/, but they won't be saved outside of the current session"
   ]
  },
  {
   "cell_type": "code",
   "execution_count": 2,
   "metadata": {
    "execution": {
     "iopub.execute_input": "2024-08-21T07:20:10.417282Z",
     "iopub.status.busy": "2024-08-21T07:20:10.416324Z",
     "iopub.status.idle": "2024-08-21T07:20:28.539178Z",
     "shell.execute_reply": "2024-08-21T07:20:28.538294Z",
     "shell.execute_reply.started": "2024-08-21T07:20:10.417247Z"
    }
   },
   "outputs": [
    {
     "name": "stderr",
     "output_type": "stream",
     "text": [
      "2024-08-21 07:20:10.774075: E external/local_xla/xla/stream_executor/cuda/cuda_dnn.cc:9261] Unable to register cuDNN factory: Attempting to register factory for plugin cuDNN when one has already been registered\n",
      "2024-08-21 07:20:10.774137: E external/local_xla/xla/stream_executor/cuda/cuda_fft.cc:607] Unable to register cuFFT factory: Attempting to register factory for plugin cuFFT when one has already been registered\n",
      "2024-08-21 07:20:10.776042: E external/local_xla/xla/stream_executor/cuda/cuda_blas.cc:1515] Unable to register cuBLAS factory: Attempting to register factory for plugin cuBLAS when one has already been registered\n"
     ]
    },
    {
     "name": "stdout",
     "output_type": "stream",
     "text": [
      "[nltk_data] Downloading package wordnet to /usr/share/nltk_data...\n",
      "[nltk_data]   Package wordnet is already up-to-date!\n"
     ]
    },
    {
     "data": {
      "text/plain": [
       "True"
      ]
     },
     "execution_count": 2,
     "metadata": {},
     "output_type": "execute_result"
    }
   ],
   "source": [
    "import string\n",
    "import tensorflow as tf\n",
    "from tensorflow import keras\n",
    "from keras.models import Sequential\n",
    "from keras.layers import Dense, GRU, Embedding, Bidirectional, LSTM, Dropout, Flatten, GlobalMaxPooling1D, GlobalAveragePooling1D\n",
    "from keras import  regularizers\n",
    "from keras.callbacks import ReduceLROnPlateau, EarlyStopping, ModelCheckpoint\n",
    "from tensorflow.keras.preprocessing.text import Tokenizer\n",
    "from keras.utils import pad_sequences\n",
    "from gensim.models import Word2Vec\n",
    "from sklearn.model_selection import train_test_split\n",
    "import numpy as np\n",
    "import matplotlib.pyplot as plt\n",
    "import nltk \n",
    "from nltk.stem import WordNetLemmatizer\n",
    "from nltk.corpus import stopwords\n",
    "from nltk.tokenize import word_tokenize\n",
    "nltk.download('wordnet')"
   ]
  },
  {
   "cell_type": "code",
   "execution_count": 3,
   "metadata": {
    "execution": {
     "iopub.execute_input": "2024-08-21T07:20:28.541065Z",
     "iopub.status.busy": "2024-08-21T07:20:28.540492Z",
     "iopub.status.idle": "2024-08-21T07:20:28.573345Z",
     "shell.execute_reply": "2024-08-21T07:20:28.572484Z",
     "shell.execute_reply.started": "2024-08-21T07:20:28.541035Z"
    }
   },
   "outputs": [
    {
     "name": "stdout",
     "output_type": "stream",
     "text": [
      "[nltk_data] Downloading package wordnet to /kaggle/working/...\n",
      "[nltk_data]   Package wordnet is already up-to-date!\n",
      "Archive:  /kaggle/working/corpora/wordnet.zip\n"
     ]
    },
    {
     "name": "stderr",
     "output_type": "stream",
     "text": [
      "replace /kaggle/working/corpora/wordnet/lexnames? [y]es, [n]o, [A]ll, [N]one, [r]ename:  NULL\n",
      "(EOF or read error, treating as \"[N]one\" ...)\n"
     ]
    }
   ],
   "source": [
    "import subprocess         # Having some issue while import wordnet in kaggle enviornment this code resolve the issue\n",
    "\n",
    "# Download and unzip wordnet\n",
    "try:\n",
    "    nltk.data.find('wordnet.zip')\n",
    "except:\n",
    "    nltk.download('wordnet', download_dir='/kaggle/working/')\n",
    "    command = \"unzip /kaggle/working/corpora/wordnet.zip -d /kaggle/working/corpora\"\n",
    "    subprocess.run(command.split())\n",
    "    nltk.data.path.append('/kaggle/working/')\n",
    "\n",
    "# Now you can import the NLTK resources as usual\n",
    "from nltk.corpus import wordnet"
   ]
  },
  {
   "cell_type": "markdown",
   "metadata": {},
   "source": [
    "# EDA"
   ]
  },
  {
   "cell_type": "code",
   "execution_count": 4,
   "metadata": {
    "execution": {
     "iopub.execute_input": "2024-08-21T07:20:34.498849Z",
     "iopub.status.busy": "2024-08-21T07:20:34.498468Z",
     "iopub.status.idle": "2024-08-21T07:20:37.172827Z",
     "shell.execute_reply": "2024-08-21T07:20:37.171833Z",
     "shell.execute_reply.started": "2024-08-21T07:20:34.498818Z"
    }
   },
   "outputs": [
    {
     "data": {
      "text/html": [
       "<div>\n",
       "<style scoped>\n",
       "    .dataframe tbody tr th:only-of-type {\n",
       "        vertical-align: middle;\n",
       "    }\n",
       "\n",
       "    .dataframe tbody tr th {\n",
       "        vertical-align: top;\n",
       "    }\n",
       "\n",
       "    .dataframe thead th {\n",
       "        text-align: right;\n",
       "    }\n",
       "</style>\n",
       "<table border=\"1\" class=\"dataframe\">\n",
       "  <thead>\n",
       "    <tr style=\"text-align: right;\">\n",
       "      <th></th>\n",
       "      <th>qid</th>\n",
       "      <th>question_text</th>\n",
       "      <th>target</th>\n",
       "    </tr>\n",
       "  </thead>\n",
       "  <tbody>\n",
       "    <tr>\n",
       "      <th>0</th>\n",
       "      <td>00002165364db923c7e6</td>\n",
       "      <td>How did Quebec nationalists see their province...</td>\n",
       "      <td>0</td>\n",
       "    </tr>\n",
       "    <tr>\n",
       "      <th>1</th>\n",
       "      <td>000032939017120e6e44</td>\n",
       "      <td>Do you have an adopted dog, how would you enco...</td>\n",
       "      <td>0</td>\n",
       "    </tr>\n",
       "    <tr>\n",
       "      <th>2</th>\n",
       "      <td>0000412ca6e4628ce2cf</td>\n",
       "      <td>Why does velocity affect time? Does velocity a...</td>\n",
       "      <td>0</td>\n",
       "    </tr>\n",
       "    <tr>\n",
       "      <th>3</th>\n",
       "      <td>000042bf85aa498cd78e</td>\n",
       "      <td>How did Otto von Guericke used the Magdeburg h...</td>\n",
       "      <td>0</td>\n",
       "    </tr>\n",
       "    <tr>\n",
       "      <th>4</th>\n",
       "      <td>0000455dfa3e01eae3af</td>\n",
       "      <td>Can I convert montra helicon D to a mountain b...</td>\n",
       "      <td>0</td>\n",
       "    </tr>\n",
       "  </tbody>\n",
       "</table>\n",
       "</div>"
      ],
      "text/plain": [
       "                    qid                                      question_text  \\\n",
       "0  00002165364db923c7e6  How did Quebec nationalists see their province...   \n",
       "1  000032939017120e6e44  Do you have an adopted dog, how would you enco...   \n",
       "2  0000412ca6e4628ce2cf  Why does velocity affect time? Does velocity a...   \n",
       "3  000042bf85aa498cd78e  How did Otto von Guericke used the Magdeburg h...   \n",
       "4  0000455dfa3e01eae3af  Can I convert montra helicon D to a mountain b...   \n",
       "\n",
       "   target  \n",
       "0       0  \n",
       "1       0  \n",
       "2       0  \n",
       "3       0  \n",
       "4       0  "
      ]
     },
     "execution_count": 4,
     "metadata": {},
     "output_type": "execute_result"
    }
   ],
   "source": [
    "df = pd.read_csv('/kaggle/input/quora-insincere-questions-dataset/train.csv')\n",
    "df.head()"
   ]
  },
  {
   "cell_type": "code",
   "execution_count": 5,
   "metadata": {
    "execution": {
     "iopub.execute_input": "2024-08-21T07:20:38.136858Z",
     "iopub.status.busy": "2024-08-21T07:20:38.136480Z",
     "iopub.status.idle": "2024-08-21T07:20:38.400133Z",
     "shell.execute_reply": "2024-08-21T07:20:38.399342Z",
     "shell.execute_reply.started": "2024-08-21T07:20:38.136828Z"
    }
   },
   "outputs": [
    {
     "name": "stdout",
     "output_type": "stream",
     "text": [
      "<class 'pandas.core.frame.DataFrame'>\n",
      "RangeIndex: 1306122 entries, 0 to 1306121\n",
      "Data columns (total 3 columns):\n",
      " #   Column         Non-Null Count    Dtype \n",
      "---  ------         --------------    ----- \n",
      " 0   qid            1306122 non-null  object\n",
      " 1   question_text  1306122 non-null  object\n",
      " 2   target         1306122 non-null  int64 \n",
      "dtypes: int64(1), object(2)\n",
      "memory usage: 29.9+ MB\n"
     ]
    }
   ],
   "source": [
    "df.info()"
   ]
  },
  {
   "cell_type": "code",
   "execution_count": 6,
   "metadata": {
    "execution": {
     "iopub.execute_input": "2024-08-21T07:20:39.224460Z",
     "iopub.status.busy": "2024-08-21T07:20:39.223216Z",
     "iopub.status.idle": "2024-08-21T07:20:39.254485Z",
     "shell.execute_reply": "2024-08-21T07:20:39.253732Z",
     "shell.execute_reply.started": "2024-08-21T07:20:39.224413Z"
    }
   },
   "outputs": [],
   "source": [
    "df.drop('qid', inplace=True, axis=1)"
   ]
  },
  {
   "cell_type": "code",
   "execution_count": 7,
   "metadata": {
    "execution": {
     "iopub.execute_input": "2024-08-21T07:20:40.244322Z",
     "iopub.status.busy": "2024-08-21T07:20:40.243619Z",
     "iopub.status.idle": "2024-08-21T07:20:40.272247Z",
     "shell.execute_reply": "2024-08-21T07:20:40.271172Z",
     "shell.execute_reply.started": "2024-08-21T07:20:40.244287Z"
    }
   },
   "outputs": [
    {
     "name": "stdout",
     "output_type": "stream",
     "text": [
      "target\n",
      "0    1225312\n",
      "1      80810\n",
      "Name: count, dtype: int64\n",
      "target\n",
      "0    0.93813\n",
      "1    0.06187\n",
      "Name: proportion, dtype: float64\n"
     ]
    }
   ],
   "source": [
    "print(df.target.value_counts())\n",
    "print(df.target.value_counts(normalize=True))"
   ]
  },
  {
   "cell_type": "code",
   "execution_count": 8,
   "metadata": {
    "execution": {
     "iopub.execute_input": "2024-08-21T07:20:41.209860Z",
     "iopub.status.busy": "2024-08-21T07:20:41.208910Z",
     "iopub.status.idle": "2024-08-21T07:20:41.450757Z",
     "shell.execute_reply": "2024-08-21T07:20:41.449879Z",
     "shell.execute_reply.started": "2024-08-21T07:20:41.209827Z"
    }
   },
   "outputs": [
    {
     "data": {
      "text/plain": [
       "<Axes: xlabel='target'>"
      ]
     },
     "execution_count": 8,
     "metadata": {},
     "output_type": "execute_result"
    },
    {
     "data": {
      "image/png": "[encoded data removed]",
      "text/plain": [
       "<Figure size 640x480 with 1 Axes>"
      ]
     },
     "metadata": {},
     "output_type": "display_data"
    }
   ],
   "source": [
    "df.target.value_counts().plot(kind='bar')"
   ]
  },
  {
   "cell_type": "code",
   "execution_count": 9,
   "metadata": {
    "execution": {
     "iopub.execute_input": "2024-08-21T07:20:42.240225Z",
     "iopub.status.busy": "2024-08-21T07:20:42.239413Z",
     "iopub.status.idle": "2024-08-21T07:20:42.246289Z",
     "shell.execute_reply": "2024-08-21T07:20:42.245391Z",
     "shell.execute_reply.started": "2024-08-21T07:20:42.240192Z"
    }
   },
   "outputs": [
    {
     "data": {
      "text/plain": [
       "array(['How did Quebec nationalists see their province as a nation in the 1960s?',\n",
       "       'Do you have an adopted dog, how would you encourage people to adopt and not shop?',\n",
       "       'Why does velocity affect time? Does velocity affect space geometry?',\n",
       "       'How did Otto von Guericke used the Magdeburg hemispheres?',\n",
       "       'Can I convert montra helicon D to a mountain bike by just changing the tyres?'],\n",
       "      dtype=object)"
      ]
     },
     "execution_count": 9,
     "metadata": {},
     "output_type": "execute_result"
    }
   ],
   "source": [
    "df.question_text.head().values"
   ]
  },
  {
   "cell_type": "code",
   "execution_count": 10,
   "metadata": {
    "execution": {
     "iopub.execute_input": "2024-08-21T07:20:43.060519Z",
     "iopub.status.busy": "2024-08-21T07:20:43.060209Z",
     "iopub.status.idle": "2024-08-21T07:20:43.097583Z",
     "shell.execute_reply": "2024-08-21T07:20:43.096634Z",
     "shell.execute_reply.started": "2024-08-21T07:20:43.060494Z"
    }
   },
   "outputs": [
    {
     "data": {
      "text/plain": [
       "array(['How do I teach an ENTP when to shut their mouth?',\n",
       "       'Should popular Quorans be banned for the upvotes they get just because of their popularity?',\n",
       "       'Which state in India are the most rude and rough in their behaviour?',\n",
       "       \"What would happen if the entire nation of Russia was completely obliterated, with everyone within its borders dead? I'm only looking for political and social effects unrelated to what caused it.\",\n",
       "       'Why do many Sikhs think low about Hindu Brahmins and badly call them pandat or pandu and even not think good about Shudras and call them Mazhabi? Do they like Kshtriyas and Vaishyas only?'],\n",
       "      dtype=object)"
      ]
     },
     "execution_count": 10,
     "metadata": {},
     "output_type": "execute_result"
    }
   ],
   "source": [
    "df.query('target == 1')['question_text'].sample(5).values"
   ]
  },
  {
   "cell_type": "code",
   "execution_count": 11,
   "metadata": {
    "execution": {
     "iopub.execute_input": "2024-08-21T07:20:43.879224Z",
     "iopub.status.busy": "2024-08-21T07:20:43.878855Z",
     "iopub.status.idle": "2024-08-21T07:20:43.946292Z",
     "shell.execute_reply": "2024-08-21T07:20:43.945283Z",
     "shell.execute_reply.started": "2024-08-21T07:20:43.879193Z"
    }
   },
   "outputs": [],
   "source": [
    "sincere_df = df[df.target == 0]\n",
    "insincere_df = df[df.target == 1] "
   ]
  },
  {
   "cell_type": "code",
   "execution_count": 12,
   "metadata": {
    "execution": {
     "iopub.execute_input": "2024-08-21T07:20:44.638537Z",
     "iopub.status.busy": "2024-08-21T07:20:44.637877Z",
     "iopub.status.idle": "2024-08-21T07:20:44.785642Z",
     "shell.execute_reply": "2024-08-21T07:20:44.784710Z",
     "shell.execute_reply.started": "2024-08-21T07:20:44.638504Z"
    }
   },
   "outputs": [
    {
     "name": "stdout",
     "output_type": "stream",
     "text": [
      "<class 'pandas.core.frame.DataFrame'>\n",
      "Index: 1225312 entries, 0 to 1306121\n",
      "Data columns (total 2 columns):\n",
      " #   Column         Non-Null Count    Dtype \n",
      "---  ------         --------------    ----- \n",
      " 0   question_text  1225312 non-null  object\n",
      " 1   target         1225312 non-null  int64 \n",
      "dtypes: int64(1), object(1)\n",
      "memory usage: 28.0+ MB\n",
      "None\n",
      "<class 'pandas.core.frame.DataFrame'>\n",
      "Index: 80810 entries, 22 to 1306112\n",
      "Data columns (total 2 columns):\n",
      " #   Column         Non-Null Count  Dtype \n",
      "---  ------         --------------  ----- \n",
      " 0   question_text  80810 non-null  object\n",
      " 1   target         80810 non-null  int64 \n",
      "dtypes: int64(1), object(1)\n",
      "memory usage: 1.8+ MB\n",
      "None\n"
     ]
    }
   ],
   "source": [
    "print(sincere_df.info())\n",
    "print(insincere_df.info())"
   ]
  },
  {
   "cell_type": "markdown",
   "metadata": {},
   "source": [
    "# Feature Engineering"
   ]
  },
  {
   "cell_type": "code",
   "execution_count": 13,
   "metadata": {
    "execution": {
     "iopub.execute_input": "2024-08-21T07:20:45.561617Z",
     "iopub.status.busy": "2024-08-21T07:20:45.560989Z",
     "iopub.status.idle": "2024-08-21T07:20:45.640533Z",
     "shell.execute_reply": "2024-08-21T07:20:45.639676Z",
     "shell.execute_reply.started": "2024-08-21T07:20:45.561588Z"
    }
   },
   "outputs": [],
   "source": [
    "train_df = sincere_df.sample(int(len(insincere_df) * 1.5 ))  \n",
    "\n",
    "train_df = pd.concat([train_df,insincere_df], ignore_index=True)\n",
    "\n",
    "train_df = train_df.sample(len(train_df))\n",
    "\n",
    "train_df.reset_index(drop = True, inplace=True)       # Downsampling"
   ]
  },
  {
   "cell_type": "code",
   "execution_count": 14,
   "metadata": {
    "execution": {
     "iopub.execute_input": "2024-08-21T07:20:46.382610Z",
     "iopub.status.busy": "2024-08-21T07:20:46.381932Z",
     "iopub.status.idle": "2024-08-21T07:20:46.397153Z",
     "shell.execute_reply": "2024-08-21T07:20:46.396196Z",
     "shell.execute_reply.started": "2024-08-21T07:20:46.382576Z"
    }
   },
   "outputs": [
    {
     "data": {
      "text/html": [
       "<div>\n",
       "<style scoped>\n",
       "    .dataframe tbody tr th:only-of-type {\n",
       "        vertical-align: middle;\n",
       "    }\n",
       "\n",
       "    .dataframe tbody tr th {\n",
       "        vertical-align: top;\n",
       "    }\n",
       "\n",
       "    .dataframe thead th {\n",
       "        text-align: right;\n",
       "    }\n",
       "</style>\n",
       "<table border=\"1\" class=\"dataframe\">\n",
       "  <thead>\n",
       "    <tr style=\"text-align: right;\">\n",
       "      <th></th>\n",
       "      <th>question_text</th>\n",
       "      <th>target</th>\n",
       "    </tr>\n",
       "  </thead>\n",
       "  <tbody>\n",
       "    <tr>\n",
       "      <th>145588</th>\n",
       "      <td>Recently, the theory came up in European news ...</td>\n",
       "      <td>1</td>\n",
       "    </tr>\n",
       "    <tr>\n",
       "      <th>38302</th>\n",
       "      <td>Can I pursue medical research through JEE?</td>\n",
       "      <td>0</td>\n",
       "    </tr>\n",
       "    <tr>\n",
       "      <th>43021</th>\n",
       "      <td>If I ship a guitar and case via UPS, do I have...</td>\n",
       "      <td>0</td>\n",
       "    </tr>\n",
       "    <tr>\n",
       "      <th>148262</th>\n",
       "      <td>Why are native English speakers usually not ve...</td>\n",
       "      <td>1</td>\n",
       "    </tr>\n",
       "    <tr>\n",
       "      <th>62286</th>\n",
       "      <td>Will conservatives be as forgiving the day we ...</td>\n",
       "      <td>1</td>\n",
       "    </tr>\n",
       "    <tr>\n",
       "      <th>52150</th>\n",
       "      <td>Why are you calling Yashaya Jewish he is a Heb...</td>\n",
       "      <td>1</td>\n",
       "    </tr>\n",
       "    <tr>\n",
       "      <th>79402</th>\n",
       "      <td>What are the pros and cons of getting an ITIN ...</td>\n",
       "      <td>0</td>\n",
       "    </tr>\n",
       "    <tr>\n",
       "      <th>102661</th>\n",
       "      <td>How is solar system in realitty?</td>\n",
       "      <td>0</td>\n",
       "    </tr>\n",
       "    <tr>\n",
       "      <th>112663</th>\n",
       "      <td>Can a person practice both law and CS at the s...</td>\n",
       "      <td>0</td>\n",
       "    </tr>\n",
       "    <tr>\n",
       "      <th>40603</th>\n",
       "      <td>Why are (not all but most and specially Indian...</td>\n",
       "      <td>1</td>\n",
       "    </tr>\n",
       "  </tbody>\n",
       "</table>\n",
       "</div>"
      ],
      "text/plain": [
       "                                            question_text  target\n",
       "145588  Recently, the theory came up in European news ...       1\n",
       "38302          Can I pursue medical research through JEE?       0\n",
       "43021   If I ship a guitar and case via UPS, do I have...       0\n",
       "148262  Why are native English speakers usually not ve...       1\n",
       "62286   Will conservatives be as forgiving the day we ...       1\n",
       "52150   Why are you calling Yashaya Jewish he is a Heb...       1\n",
       "79402   What are the pros and cons of getting an ITIN ...       0\n",
       "102661                   How is solar system in realitty?       0\n",
       "112663  Can a person practice both law and CS at the s...       0\n",
       "40603   Why are (not all but most and specially Indian...       1"
      ]
     },
     "execution_count": 14,
     "metadata": {},
     "output_type": "execute_result"
    }
   ],
   "source": [
    "train_df.sample(10)"
   ]
  },
  {
   "cell_type": "code",
   "execution_count": 15,
   "metadata": {
    "execution": {
     "iopub.execute_input": "2024-08-21T07:20:47.207451Z",
     "iopub.status.busy": "2024-08-21T07:20:47.207083Z",
     "iopub.status.idle": "2024-08-21T07:20:47.252777Z",
     "shell.execute_reply": "2024-08-21T07:20:47.251653Z",
     "shell.execute_reply.started": "2024-08-21T07:20:47.207419Z"
    }
   },
   "outputs": [
    {
     "name": "stdout",
     "output_type": "stream",
     "text": [
      "<class 'pandas.core.frame.DataFrame'>\n",
      "RangeIndex: 202025 entries, 0 to 202024\n",
      "Data columns (total 2 columns):\n",
      " #   Column         Non-Null Count   Dtype \n",
      "---  ------         --------------   ----- \n",
      " 0   question_text  202025 non-null  object\n",
      " 1   target         202025 non-null  int64 \n",
      "dtypes: int64(1), object(1)\n",
      "memory usage: 3.1+ MB\n"
     ]
    }
   ],
   "source": [
    "train_df.info()"
   ]
  },
  {
   "cell_type": "code",
   "execution_count": 16,
   "metadata": {
    "execution": {
     "iopub.execute_input": "2024-08-21T07:20:48.101409Z",
     "iopub.status.busy": "2024-08-21T07:20:48.101081Z",
     "iopub.status.idle": "2024-08-21T07:20:48.106173Z",
     "shell.execute_reply": "2024-08-21T07:20:48.105109Z",
     "shell.execute_reply.started": "2024-08-21T07:20:48.101381Z"
    }
   },
   "outputs": [],
   "source": [
    "def exclude_punc(text):\n",
    "    rp = string.punctuation\n",
    "    return text.translate(str.maketrans('','', rp))"
   ]
  },
  {
   "cell_type": "code",
   "execution_count": 17,
   "metadata": {
    "execution": {
     "iopub.execute_input": "2024-08-21T07:20:48.993352Z",
     "iopub.status.busy": "2024-08-21T07:20:48.992999Z",
     "iopub.status.idle": "2024-08-21T07:20:49.961629Z",
     "shell.execute_reply": "2024-08-21T07:20:49.960838Z",
     "shell.execute_reply.started": "2024-08-21T07:20:48.993323Z"
    }
   },
   "outputs": [],
   "source": [
    "train_df['question_text'] = train_df['question_text'].map(exclude_punc) # excluding punctutions"
   ]
  },
  {
   "cell_type": "code",
   "execution_count": 18,
   "metadata": {
    "execution": {
     "iopub.execute_input": "2024-08-21T07:20:49.963397Z",
     "iopub.status.busy": "2024-08-21T07:20:49.963096Z",
     "iopub.status.idle": "2024-08-21T07:20:50.071244Z",
     "shell.execute_reply": "2024-08-21T07:20:50.070426Z",
     "shell.execute_reply.started": "2024-08-21T07:20:49.963371Z"
    }
   },
   "outputs": [],
   "source": [
    "train_df.question_text = train_df.question_text.apply(lambda x: x.lower()) #lower casing"
   ]
  },
  {
   "cell_type": "code",
   "execution_count": 19,
   "metadata": {
    "execution": {
     "iopub.execute_input": "2024-08-21T07:20:50.893227Z",
     "iopub.status.busy": "2024-08-21T07:20:50.892507Z",
     "iopub.status.idle": "2024-08-21T07:20:50.905298Z",
     "shell.execute_reply": "2024-08-21T07:20:50.904471Z",
     "shell.execute_reply.started": "2024-08-21T07:20:50.893195Z"
    }
   },
   "outputs": [
    {
     "data": {
      "text/plain": [
       "array(['what is the hatchet series called',\n",
       "       'why do chinese tourists keep being blinded by the chinese tour guide that vietnam belongs to their country dont they have google to search',\n",
       "       'how do i ask mt sister to see her naked',\n",
       "       'when are federal taxes withheld from smaller amount income',\n",
       "       'what do ukranians think of portugal and do they know they are the most numerous european community there',\n",
       "       'how do i tell my friends to stop playing with my son’s penis',\n",
       "       'what should be the goal of humanity',\n",
       "       'what should i definitely do at burbank california when visiting during vacations',\n",
       "       'if you rolled two dice 1000 times how many times would you get a sum of two',\n",
       "       'what are the characteristics of the maasai garment called the shuka'],\n",
       "      dtype=object)"
      ]
     },
     "execution_count": 19,
     "metadata": {},
     "output_type": "execute_result"
    }
   ],
   "source": [
    "train_df.question_text.sample(10).values"
   ]
  },
  {
   "cell_type": "code",
   "execution_count": 20,
   "metadata": {
    "execution": {
     "iopub.execute_input": "2024-08-21T07:20:51.803178Z",
     "iopub.status.busy": "2024-08-21T07:20:51.802794Z",
     "iopub.status.idle": "2024-08-21T07:21:29.849150Z",
     "shell.execute_reply": "2024-08-21T07:21:29.848067Z",
     "shell.execute_reply.started": "2024-08-21T07:20:51.803151Z"
    }
   },
   "outputs": [],
   "source": [
    "stop_words = set(stopwords.words('english'))                 # tokenizing and removing stopwords\n",
    "\n",
    "def remove_stop(text):\n",
    "    # Split the text into words\n",
    "    words = word_tokenize(text)\n",
    "    \n",
    "    # Filter out stop words\n",
    "    filtered_words = [word for word in words if word.isalpha() and word not in stop_words]\n",
    "    \n",
    "    # Join the filtered words back into a single string\n",
    "    return filtered_words\n",
    "\n",
    "\n",
    "train_df.question_text = train_df.question_text.apply(remove_stop)"
   ]
  },
  {
   "cell_type": "code",
   "execution_count": 21,
   "metadata": {
    "execution": {
     "iopub.execute_input": "2024-08-21T07:21:29.851267Z",
     "iopub.status.busy": "2024-08-21T07:21:29.850961Z",
     "iopub.status.idle": "2024-08-21T07:21:29.863704Z",
     "shell.execute_reply": "2024-08-21T07:21:29.862724Z",
     "shell.execute_reply.started": "2024-08-21T07:21:29.851241Z"
    }
   },
   "outputs": [
    {
     "data": {
      "text/plain": [
       "array([list(['certifications', 'companies', 'look', 'recruiting', 'entry', 'level', 'business', 'analyst']),\n",
       "       list(['website', 'staylaid', 'fake']),\n",
       "       list(['cutoff', 'mark', 'deducted', 'total', 'marks', 'obtained', 'icse', 'want', 'get', 'admission', 'wbbhsecbsc', 'standard', 'migration', 'board']),\n",
       "       list(['see', 'tomahawks', 'falling', 'turkey', 'like', 'trump', 'syria']),\n",
       "       list(['polyglottery', 'helped', 'professional', 'career'])],\n",
       "      dtype=object)"
      ]
     },
     "execution_count": 21,
     "metadata": {},
     "output_type": "execute_result"
    }
   ],
   "source": [
    "train_df.question_text.sample(5).values"
   ]
  },
  {
   "cell_type": "code",
   "execution_count": 23,
   "metadata": {
    "execution": {
     "iopub.execute_input": "2024-08-21T07:21:50.922374Z",
     "iopub.status.busy": "2024-08-21T07:21:50.921766Z",
     "iopub.status.idle": "2024-08-21T07:22:01.947976Z",
     "shell.execute_reply": "2024-08-21T07:22:01.946948Z",
     "shell.execute_reply.started": "2024-08-21T07:21:50.922344Z"
    }
   },
   "outputs": [],
   "source": [
    "#nltk.download('wordnet')                                # lemmatizing words into their base form\n",
    "lemme = WordNetLemmatizer()\n",
    "\n",
    "def lemmatization(text):\n",
    "\n",
    "    lemmatized_text = [lemme.lemmatize(word) for word in text]\n",
    "    return lemmatized_text\n",
    "\n",
    "train_df.question_text = train_df.question_text.apply(lemmatization)"
   ]
  },
  {
   "cell_type": "code",
   "execution_count": 24,
   "metadata": {
    "execution": {
     "iopub.execute_input": "2024-08-21T07:22:05.501875Z",
     "iopub.status.busy": "2024-08-21T07:22:05.500957Z",
     "iopub.status.idle": "2024-08-21T07:22:05.513485Z",
     "shell.execute_reply": "2024-08-21T07:22:05.512543Z",
     "shell.execute_reply.started": "2024-08-21T07:22:05.501833Z"
    }
   },
   "outputs": [
    {
     "data": {
      "text/plain": [
       "array([list(['start', 'learning', 'mathematics', 'scratch', 'computer', 'engineering', 'student', 'university', 'mathematics', 'different', 'high', 'school', 'mathematics', 'always', 'find', 'get', 'asked', 'proof', 'something', 'exam', 'dont', 'know', 'study']),\n",
       "       list(['people', 'calling', 'stupid', 'abandoned', 'uk', 'indian', 'go']),\n",
       "       list(['christian', 'priest', 'rape', 'woman', 'india']),\n",
       "       list(['india', 'ever', 'involved', 'witnessed', 'incest']),\n",
       "       list(['disadvantage', 'separatiststates', 'rightsquora', 'user', 'restrict', 'voting', 'right', 'underfund', 'school', 'colored', 'american', 'cage', 'immigrant', 'asylum', 'seeker', 'obstruct', 'basic', 'right']),\n",
       "       list(['democrat', 'chanting', 'lock', 'america', 'far', 'trump', 'ever', 'hilary', 'clinton', 'booing', 'hissing', 'apparently', 'crooked', 'family']),\n",
       "       list(['happen', 'splash', 'full', 'load', 'kg', 'cum', 'face', 'as']),\n",
       "       list(['main', 'thing', 'check', 'purchasing', 'air', 'cooler']),\n",
       "       list(['would', 'good', 'idea', 'start', 'business', 'india', 'money', 'could', 'invest', 'settling', 'abroad', 'north', 'america']),\n",
       "       list(['could', 'russia', 'prime', 'city', 'nuking', 'first', 'launching', 'icbm', 'ton', 'vodka', 'real', 'nuclear', 'missile', 'following', 'closely', 'behind'])],\n",
       "      dtype=object)"
      ]
     },
     "execution_count": 24,
     "metadata": {},
     "output_type": "execute_result"
    }
   ],
   "source": [
    "train_df.question_text.sample(10).values"
   ]
  },
  {
   "cell_type": "raw",
   "metadata": {},
   "source": [
    "#Training Pre-Trained Word2vec Embedding"
   ]
  },
  {
   "cell_type": "code",
   "execution_count": 25,
   "metadata": {
    "execution": {
     "iopub.execute_input": "2024-08-21T07:22:23.454128Z",
     "iopub.status.busy": "2024-08-21T07:22:23.453481Z",
     "iopub.status.idle": "2024-08-21T07:22:24.861080Z",
     "shell.execute_reply": "2024-08-21T07:22:24.860298Z",
     "shell.execute_reply.started": "2024-08-21T07:22:23.454094Z"
    }
   },
   "outputs": [],
   "source": [
    "emb_dim = 300\n",
    "w2v = Word2Vec(min_count=2, window=7, vector_size= emb_dim)\n",
    "\n",
    "w2v.build_vocab(train_df.question_text)"
   ]
  },
  {
   "cell_type": "code",
   "execution_count": 26,
   "metadata": {
    "execution": {
     "iopub.execute_input": "2024-08-21T07:22:31.466748Z",
     "iopub.status.busy": "2024-08-21T07:22:31.466366Z",
     "iopub.status.idle": "2024-08-21T07:23:14.288471Z",
     "shell.execute_reply": "2024-08-21T07:23:14.287511Z",
     "shell.execute_reply.started": "2024-08-21T07:22:31.466716Z"
    }
   },
   "outputs": [
    {
     "data": {
      "text/plain": [
       "(27697862, 29524280)"
      ]
     },
     "execution_count": 26,
     "metadata": {},
     "output_type": "execute_result"
    }
   ],
   "source": [
    "w2v.train(train_df.question_text, total_examples=w2v.corpus_count, epochs=20)"
   ]
  },
  {
   "cell_type": "code",
   "execution_count": 27,
   "metadata": {
    "execution": {
     "iopub.execute_input": "2024-08-21T07:23:26.438102Z",
     "iopub.status.busy": "2024-08-21T07:23:26.437736Z",
     "iopub.status.idle": "2024-08-21T07:23:28.079528Z",
     "shell.execute_reply": "2024-08-21T07:23:28.078738Z",
     "shell.execute_reply.started": "2024-08-21T07:23:26.438071Z"
    }
   },
   "outputs": [],
   "source": [
    "tokenizer = Tokenizer()\n",
    "tokenizer.fit_on_texts(train_df['question_text'])"
   ]
  },
  {
   "cell_type": "code",
   "execution_count": 28,
   "metadata": {
    "execution": {
     "iopub.execute_input": "2024-08-21T07:23:28.081275Z",
     "iopub.status.busy": "2024-08-21T07:23:28.080990Z",
     "iopub.status.idle": "2024-08-21T07:23:28.087137Z",
     "shell.execute_reply": "2024-08-21T07:23:28.086262Z",
     "shell.execute_reply.started": "2024-08-21T07:23:28.081250Z"
    }
   },
   "outputs": [
    {
     "data": {
      "text/plain": [
       "69818"
      ]
     },
     "execution_count": 28,
     "metadata": {},
     "output_type": "execute_result"
    }
   ],
   "source": [
    "word_index = tokenizer.word_index\n",
    "len(tokenizer.word_index)         # vocabulary"
   ]
  },
  {
   "cell_type": "code",
   "execution_count": 29,
   "metadata": {
    "execution": {
     "iopub.execute_input": "2024-08-21T07:23:31.989727Z",
     "iopub.status.busy": "2024-08-21T07:23:31.988578Z",
     "iopub.status.idle": "2024-08-21T07:23:33.013487Z",
     "shell.execute_reply": "2024-08-21T07:23:33.012575Z",
     "shell.execute_reply.started": "2024-08-21T07:23:31.989665Z"
    }
   },
   "outputs": [
    {
     "data": {
      "text/plain": [
       "[[30, 649, 167, 649, 4305, 563],\n",
       " [21, 496, 20, 9, 17, 205, 486, 4374],\n",
       " [793, 1552, 1492],\n",
       " [3862, 3981, 156, 23832],\n",
       " [984, 3597, 888, 1987, 888, 368],\n",
       " [356, 172, 2794],\n",
       " [8, 1468, 1294, 604, 27, 5847, 17, 442],\n",
       " [376, 363, 409, 973, 3323],\n",
       " [12, 32008, 75, 43, 10757, 1077],\n",
       " [89,\n",
       "  205,\n",
       "  527,\n",
       "  1119,\n",
       "  74,\n",
       "  515,\n",
       "  48,\n",
       "  1553,\n",
       "  1469,\n",
       "  605,\n",
       "  4964,\n",
       "  1023,\n",
       "  297,\n",
       "  333,\n",
       "  148,\n",
       "  656,\n",
       "  3863,\n",
       "  478,\n",
       "  182]]"
      ]
     },
     "execution_count": 29,
     "metadata": {},
     "output_type": "execute_result"
    }
   ],
   "source": [
    "sequences = tokenizer.texts_to_sequences(train_df['question_text'])\n",
    "sequences[:10]"
   ]
  },
  {
   "cell_type": "code",
   "execution_count": 30,
   "metadata": {
    "execution": {
     "iopub.execute_input": "2024-08-21T07:23:33.015761Z",
     "iopub.status.busy": "2024-08-21T07:23:33.015156Z",
     "iopub.status.idle": "2024-08-21T07:23:33.042152Z",
     "shell.execute_reply": "2024-08-21T07:23:33.041217Z",
     "shell.execute_reply.started": "2024-08-21T07:23:33.015725Z"
    }
   },
   "outputs": [
    {
     "data": {
      "text/plain": [
       "33"
      ]
     },
     "execution_count": 30,
     "metadata": {},
     "output_type": "execute_result"
    }
   ],
   "source": [
    "maxseq = max([len(seq) for seq in sequences])\n",
    "maxseq "
   ]
  },
  {
   "cell_type": "code",
   "execution_count": 31,
   "metadata": {
    "execution": {
     "iopub.execute_input": "2024-08-21T07:23:38.016390Z",
     "iopub.status.busy": "2024-08-21T07:23:38.016034Z",
     "iopub.status.idle": "2024-08-21T07:23:38.813187Z",
     "shell.execute_reply": "2024-08-21T07:23:38.812205Z",
     "shell.execute_reply.started": "2024-08-21T07:23:38.016359Z"
    }
   },
   "outputs": [
    {
     "data": {
      "text/plain": [
       "array([[   30,   649,   167,   649,  4305,   563,     0,     0,     0,\n",
       "            0,     0,     0,     0,     0,     0,     0,     0,     0,\n",
       "            0,     0,     0,     0,     0,     0,     0,     0,     0,\n",
       "            0,     0,     0,     0,     0,     0],\n",
       "       [   21,   496,    20,     9,    17,   205,   486,  4374,     0,\n",
       "            0,     0,     0,     0,     0,     0,     0,     0,     0,\n",
       "            0,     0,     0,     0,     0,     0,     0,     0,     0,\n",
       "            0,     0,     0,     0,     0,     0],\n",
       "       [  793,  1552,  1492,     0,     0,     0,     0,     0,     0,\n",
       "            0,     0,     0,     0,     0,     0,     0,     0,     0,\n",
       "            0,     0,     0,     0,     0,     0,     0,     0,     0,\n",
       "            0,     0,     0,     0,     0,     0],\n",
       "       [ 3862,  3981,   156, 23832,     0,     0,     0,     0,     0,\n",
       "            0,     0,     0,     0,     0,     0,     0,     0,     0,\n",
       "            0,     0,     0,     0,     0,     0,     0,     0,     0,\n",
       "            0,     0,     0,     0,     0,     0],\n",
       "       [  984,  3597,   888,  1987,   888,   368,     0,     0,     0,\n",
       "            0,     0,     0,     0,     0,     0,     0,     0,     0,\n",
       "            0,     0,     0,     0,     0,     0,     0,     0,     0,\n",
       "            0,     0,     0,     0,     0,     0]], dtype=int32)"
      ]
     },
     "execution_count": 31,
     "metadata": {},
     "output_type": "execute_result"
    }
   ],
   "source": [
    "sequences = pad_sequences(sequences, padding='post', maxlen = maxseq)\n",
    "sequences[:5]     # padded sequences with max length of 33"
   ]
  },
  {
   "cell_type": "raw",
   "metadata": {},
   "source": [
    "#Creating Embedding matrix"
   ]
  },
  {
   "cell_type": "code",
   "execution_count": 32,
   "metadata": {
    "execution": {
     "iopub.execute_input": "2024-08-21T07:23:45.064703Z",
     "iopub.status.busy": "2024-08-21T07:23:45.063934Z",
     "iopub.status.idle": "2024-08-21T07:23:45.301825Z",
     "shell.execute_reply": "2024-08-21T07:23:45.301006Z",
     "shell.execute_reply.started": "2024-08-21T07:23:45.064651Z"
    }
   },
   "outputs": [],
   "source": [
    "#key_vector = w2v.wv\n",
    "\n",
    "emb_mat = np.zeros((len(word_index)+1, emb_dim))\n",
    "for word, i in word_index.items():\n",
    "    if word in w2v.wv:\n",
    "        emb_mat[i] = w2v.wv[word]"
   ]
  },
  {
   "cell_type": "code",
   "execution_count": 33,
   "metadata": {
    "execution": {
     "iopub.execute_input": "2024-08-21T07:23:46.471279Z",
     "iopub.status.busy": "2024-08-21T07:23:46.470662Z",
     "iopub.status.idle": "2024-08-21T07:23:46.551946Z",
     "shell.execute_reply": "2024-08-21T07:23:46.551046Z",
     "shell.execute_reply.started": "2024-08-21T07:23:46.471250Z"
    }
   },
   "outputs": [
    {
     "name": "stdout",
     "output_type": "stream",
     "text": [
      "Number of missing words: 37811\n",
      "Sample missing words: ['southeners', 'goodnormal', 'fiddling', 'acuse', 'absentee', 'websiteplatform', 'pyra', 'blogpublishing', 'cryptotoken', 'stampede']\n"
     ]
    }
   ],
   "source": [
    "missing_words = [word for word in word_index if word not in w2v.wv]\n",
    "print(f\"Number of missing words: {len(missing_words)}\")\n",
    "print(f\"Sample missing words: {missing_words[:10]}\") # words that are not present in W2V so the embedding matrix contains zero"
   ]
  },
  {
   "cell_type": "raw",
   "metadata": {},
   "source": [
    "#Splitting Data"
   ]
  },
  {
   "cell_type": "code",
   "execution_count": 34,
   "metadata": {
    "execution": {
     "iopub.execute_input": "2024-08-21T07:24:03.508691Z",
     "iopub.status.busy": "2024-08-21T07:24:03.508017Z",
     "iopub.status.idle": "2024-08-21T07:24:03.615690Z",
     "shell.execute_reply": "2024-08-21T07:24:03.614909Z",
     "shell.execute_reply.started": "2024-08-21T07:24:03.508645Z"
    }
   },
   "outputs": [],
   "source": [
    "xtrain, xtest, ytrain,ytest = train_test_split(sequences, train_df.target, test_size=0.1,\n",
    "                                               stratify=train_df.target)"
   ]
  },
  {
   "cell_type": "code",
   "execution_count": 35,
   "metadata": {
    "execution": {
     "iopub.execute_input": "2024-08-21T07:24:04.641866Z",
     "iopub.status.busy": "2024-08-21T07:24:04.641497Z",
     "iopub.status.idle": "2024-08-21T07:24:04.647816Z",
     "shell.execute_reply": "2024-08-21T07:24:04.646881Z",
     "shell.execute_reply.started": "2024-08-21T07:24:04.641835Z"
    }
   },
   "outputs": [
    {
     "data": {
      "text/plain": [
       "((181822, 33), (20203, 33))"
      ]
     },
     "execution_count": 35,
     "metadata": {},
     "output_type": "execute_result"
    }
   ],
   "source": [
    "xtrain.shape , xtest.shape"
   ]
  },
  {
   "cell_type": "code",
   "execution_count": 36,
   "metadata": {
    "execution": {
     "iopub.execute_input": "2024-08-21T07:24:05.674120Z",
     "iopub.status.busy": "2024-08-21T07:24:05.673300Z",
     "iopub.status.idle": "2024-08-21T07:24:05.679669Z",
     "shell.execute_reply": "2024-08-21T07:24:05.678726Z",
     "shell.execute_reply.started": "2024-08-21T07:24:05.674088Z"
    }
   },
   "outputs": [
    {
     "data": {
      "text/plain": [
       "((181822,), (20203,))"
      ]
     },
     "execution_count": 36,
     "metadata": {},
     "output_type": "execute_result"
    }
   ],
   "source": [
    "ytrain.shape, ytest.shape"
   ]
  },
  {
   "cell_type": "markdown",
   "metadata": {},
   "source": [
    "# Modelling"
   ]
  },
  {
   "cell_type": "code",
   "execution_count": 37,
   "metadata": {
    "execution": {
     "iopub.execute_input": "2024-08-21T07:24:10.326800Z",
     "iopub.status.busy": "2024-08-21T07:24:10.326002Z",
     "iopub.status.idle": "2024-08-21T07:24:11.157338Z",
     "shell.execute_reply": "2024-08-21T07:24:11.156565Z",
     "shell.execute_reply.started": "2024-08-21T07:24:10.326761Z"
    }
   },
   "outputs": [],
   "source": [
    "model = Sequential()\n",
    "\n",
    "model.add(Embedding(len(word_index) + 1, emb_dim, weights=[emb_mat], trainable=True))  # to further train our embedding\n",
    "\n",
    "model.add(Bidirectional(LSTM(150, return_sequences=True, kernel_regularizer=regularizers.L2(2e-4))))\n",
    "model.add(Dropout(0.5))\n",
    "\n",
    "model.add(Bidirectional(LSTM(150, return_sequences=True, kernel_regularizer=regularizers.L2(2e-4))))\n",
    "model.add(Dropout(0.4))\n",
    "\n",
    "model.add(Bidirectional(LSTM(50,return_sequences=False,\n",
    "                             kernel_regularizer=regularizers.L2(2e-4))))\n",
    "#model.add(Dropout(0.3))\n",
    "\n",
    "#model.add(Flatten())\n",
    "#model.add(GlobalMaxPooling1D())\n",
    "\n",
    "model.add(Dense(64, activation ='relu'))\n",
    "model.add(Dropout(0.2))\n",
    "\n",
    "model.add(Dense(32, activation='relu'))\n",
    "\n",
    "model.add(Dense(1, activation='sigmoid'))"
   ]
  },
  {
   "cell_type": "code",
   "execution_count": 38,
   "metadata": {
    "execution": {
     "iopub.execute_input": "2024-08-21T07:24:14.230128Z",
     "iopub.status.busy": "2024-08-21T07:24:14.229756Z",
     "iopub.status.idle": "2024-08-21T07:24:14.249196Z",
     "shell.execute_reply": "2024-08-21T07:24:14.248419Z",
     "shell.execute_reply.started": "2024-08-21T07:24:14.230097Z"
    }
   },
   "outputs": [],
   "source": [
    "model.compile(optimizer='adam', loss='binary_crossentropy', metrics=['accuracy'])"
   ]
  },
  {
   "cell_type": "code",
   "execution_count": 39,
   "metadata": {
    "execution": {
     "iopub.execute_input": "2024-08-21T07:24:21.404396Z",
     "iopub.status.busy": "2024-08-21T07:24:21.403522Z",
     "iopub.status.idle": "2024-08-21T07:24:21.409587Z",
     "shell.execute_reply": "2024-08-21T07:24:21.408629Z",
     "shell.execute_reply.started": "2024-08-21T07:24:21.404359Z"
    }
   },
   "outputs": [],
   "source": [
    "checkpoint = ModelCheckpoint('model.keras', monitor='val_accuracy', save_best_only=True, verbose=1)\n",
    "reducelr = ReduceLROnPlateau(monitor='val_accuracy', factor=0.2, patience=2, min_delta=0.003, verbose=1)\n",
    "es = EarlyStopping(monitor='val_accuracy', min_delta=0.001, patience=4, verbose=1)"
   ]
  },
  {
   "cell_type": "code",
   "execution_count": 40,
   "metadata": {
    "execution": {
     "iopub.execute_input": "2024-08-21T07:24:24.176227Z",
     "iopub.status.busy": "2024-08-21T07:24:24.175548Z",
     "iopub.status.idle": "2024-08-21T07:30:00.705512Z",
     "shell.execute_reply": "2024-08-21T07:30:00.704741Z",
     "shell.execute_reply.started": "2024-08-21T07:24:24.176195Z"
    }
   },
   "outputs": [
    {
     "name": "stdout",
     "output_type": "stream",
     "text": [
      "Epoch 1/20\n",
      "\u001b[1m1421/1421\u001b[0m \u001b[32m━━━━━━━━━━━━━━━━━━━━\u001b[0m\u001b[37m\u001b[0m \u001b[1m0s\u001b[0m 36ms/step - accuracy: 0.8646 - loss: 0.4511\n",
      "Epoch 1: val_accuracy improved from -inf to 0.88754, saving model to model.keras\n",
      "\u001b[1m1421/1421\u001b[0m \u001b[32m━━━━━━━━━━━━━━━━━━━━\u001b[0m\u001b[37m\u001b[0m \u001b[1m64s\u001b[0m 39ms/step - accuracy: 0.8646 - loss: 0.4511 - val_accuracy: 0.8875 - val_loss: 0.3070 - learning_rate: 0.0010\n",
      "Epoch 2/20\n",
      "\u001b[1m1421/1421\u001b[0m \u001b[32m━━━━━━━━━━━━━━━━━━━━\u001b[0m\u001b[37m\u001b[0m \u001b[1m0s\u001b[0m 37ms/step - accuracy: 0.9045 - loss: 0.2687\n",
      "Epoch 2: val_accuracy improved from 0.88754 to 0.88952, saving model to model.keras\n",
      "\u001b[1m1421/1421\u001b[0m \u001b[32m━━━━━━━━━━━━━━━━━━━━\u001b[0m\u001b[37m\u001b[0m \u001b[1m56s\u001b[0m 39ms/step - accuracy: 0.9045 - loss: 0.2687 - val_accuracy: 0.8895 - val_loss: 0.2983 - learning_rate: 0.0010\n",
      "Epoch 3/20\n",
      "\u001b[1m1421/1421\u001b[0m \u001b[32m━━━━━━━━━━━━━━━━━━━━\u001b[0m\u001b[37m\u001b[0m \u001b[1m0s\u001b[0m 37ms/step - accuracy: 0.9223 - loss: 0.2234\n",
      "Epoch 3: ReduceLROnPlateau reducing learning rate to 0.00020000000949949026.\n",
      "\n",
      "Epoch 3: val_accuracy did not improve from 0.88952\n",
      "\u001b[1m1421/1421\u001b[0m \u001b[32m━━━━━━━━━━━━━━━━━━━━\u001b[0m\u001b[37m\u001b[0m \u001b[1m54s\u001b[0m 38ms/step - accuracy: 0.9223 - loss: 0.2234 - val_accuracy: 0.8859 - val_loss: 0.3065 - learning_rate: 0.0010\n",
      "Epoch 4/20\n",
      "\u001b[1m1421/1421\u001b[0m \u001b[32m━━━━━━━━━━━━━━━━━━━━\u001b[0m\u001b[37m\u001b[0m \u001b[1m0s\u001b[0m 37ms/step - accuracy: 0.9412 - loss: 0.1775\n",
      "Epoch 4: val_accuracy did not improve from 0.88952\n",
      "\u001b[1m1421/1421\u001b[0m \u001b[32m━━━━━━━━━━━━━━━━━━━━\u001b[0m\u001b[37m\u001b[0m \u001b[1m54s\u001b[0m 38ms/step - accuracy: 0.9412 - loss: 0.1775 - val_accuracy: 0.8843 - val_loss: 0.3366 - learning_rate: 2.0000e-04\n",
      "Epoch 5/20\n",
      "\u001b[1m1421/1421\u001b[0m \u001b[32m━━━━━━━━━━━━━━━━━━━━\u001b[0m\u001b[37m\u001b[0m \u001b[1m0s\u001b[0m 37ms/step - accuracy: 0.9485 - loss: 0.1570\n",
      "Epoch 5: ReduceLROnPlateau reducing learning rate to 4.0000001899898055e-05.\n",
      "\n",
      "Epoch 5: val_accuracy did not improve from 0.88952\n",
      "\u001b[1m1421/1421\u001b[0m \u001b[32m━━━━━━━━━━━━━━━━━━━━\u001b[0m\u001b[37m\u001b[0m \u001b[1m54s\u001b[0m 38ms/step - accuracy: 0.9485 - loss: 0.1570 - val_accuracy: 0.8832 - val_loss: 0.3448 - learning_rate: 2.0000e-04\n",
      "Epoch 6/20\n",
      "\u001b[1m1421/1421\u001b[0m \u001b[32m━━━━━━━━━━━━━━━━━━━━\u001b[0m\u001b[37m\u001b[0m \u001b[1m0s\u001b[0m 37ms/step - accuracy: 0.9563 - loss: 0.1383\n",
      "Epoch 6: val_accuracy did not improve from 0.88952\n",
      "\u001b[1m1421/1421\u001b[0m \u001b[32m━━━━━━━━━━━━━━━━━━━━\u001b[0m\u001b[37m\u001b[0m \u001b[1m54s\u001b[0m 38ms/step - accuracy: 0.9563 - loss: 0.1383 - val_accuracy: 0.8809 - val_loss: 0.3702 - learning_rate: 4.0000e-05\n",
      "Epoch 6: early stopping\n"
     ]
    }
   ],
   "source": [
    "history = model.fit(xtrain, ytrain, epochs=20, validation_data=[xtest,ytest] ,\n",
    "                    batch_size=128, callbacks=[reducelr,checkpoint, es])"
   ]
  },
  {
   "cell_type": "code",
   "execution_count": 41,
   "metadata": {
    "execution": {
     "iopub.execute_input": "2024-08-21T07:30:37.809703Z",
     "iopub.status.busy": "2024-08-21T07:30:37.808996Z",
     "iopub.status.idle": "2024-08-21T07:30:38.122998Z",
     "shell.execute_reply": "2024-08-21T07:30:38.122080Z",
     "shell.execute_reply.started": "2024-08-21T07:30:37.809654Z"
    }
   },
   "outputs": [
    {
     "data": {
      "text/plain": [
       "Text(0, 0.5, 'Accuracy')"
      ]
     },
     "execution_count": 41,
     "metadata": {},
     "output_type": "execute_result"
    },
    {
     "data": {
      "image/png": "[encoded data removed]",
      "text/plain": [
       "<Figure size 640x480 with 1 Axes>"
      ]
     },
     "metadata": {},
     "output_type": "display_data"
    }
   ],
   "source": [
    "plt.plot(history.history['val_accuracy'], label='Val_acc')\n",
    "plt.plot(history.history['accuracy'], label='Train_acc')\n",
    "plt.legend()\n",
    "plt.xlabel('epochs')\n",
    "plt.ylabel('Accuracy')"
   ]
  },
  {
   "cell_type": "code",
   "execution_count": 42,
   "metadata": {
    "execution": {
     "iopub.execute_input": "2024-08-21T07:30:39.929917Z",
     "iopub.status.busy": "2024-08-21T07:30:39.929545Z",
     "iopub.status.idle": "2024-08-21T07:30:40.186713Z",
     "shell.execute_reply": "2024-08-21T07:30:40.185813Z",
     "shell.execute_reply.started": "2024-08-21T07:30:39.929886Z"
    }
   },
   "outputs": [
    {
     "data": {
      "text/plain": [
       "Text(0.5, 1.0, 'Training v Validation Loss')"
      ]
     },
     "execution_count": 42,
     "metadata": {},
     "output_type": "execute_result"
    },
    {
     "data": {
      "image/png": "[encoded data removed]",
      "text/plain": [
       "<Figure size 640x480 with 1 Axes>"
      ]
     },
     "metadata": {},
     "output_type": "display_data"
    }
   ],
   "source": [
    "plt.plot(history.history['val_loss'], label= 'val_loss')\n",
    "plt.plot(history.history['loss'], label = 'Training_loss')\n",
    "plt.legend()\n",
    "plt.xlabel('Epochs')\n",
    "plt.ylabel('Loss')\n",
    "plt.title('Training v Validation Loss')"
   ]
  },
  {
   "cell_type": "code",
   "execution_count": null,
   "metadata": {},
   "outputs": [],
   "source": []
  }
 ],
 "metadata": {
  "kaggle": {
   "accelerator": "nvidiaTeslaT4",
   "dataSources": [
    {
     "datasetId": 4396375,
     "sourceId": 7548802,
     "sourceType": "datasetVersion"
    }
   ],
   "dockerImageVersionId": 30746,
   "isGpuEnabled": true,
   "isInternetEnabled": true,
   "language": "python",
   "sourceType": "notebook"
  },
  "kernelspec": {
   "display_name": "Python 3 (ipykernel)",
   "language": "python",
   "name": "python3"
  },
  "language_info": {
   "codemirror_mode": {
    "name": "ipython",
    "version": 3
   },
   "file_extension": ".py",
   "mimetype": "text/x-python",
   "name": "python",
   "nbconvert_exporter": "python",
   "pygments_lexer": "ipython3",
   "version": "3.10.8"
  }
 },
 "nbformat": 4,
 "nbformat_minor": 4
}
